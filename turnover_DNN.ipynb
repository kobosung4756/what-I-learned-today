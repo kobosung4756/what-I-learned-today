{
  "nbformat": 4,
  "nbformat_minor": 0,
  "metadata": {
    "colab": {
      "name": "turnover_DNN.ipynb",
      "provenance": [],
      "authorship_tag": "ABX9TyPXy73PV26AMHYh4DtCPmcq",
      "include_colab_link": true
    },
    "kernelspec": {
      "name": "python3",
      "display_name": "Python 3"
    },
    "language_info": {
      "name": "python"
    },
    "accelerator": "GPU"
  },
  "cells": [
    {
      "cell_type": "markdown",
      "metadata": {
        "id": "view-in-github",
        "colab_type": "text"
      },
      "source": [
        "<a href=\"https://colab.research.google.com/github/kobosung4756/what-I-learned-today/blob/main/turnover_DNN.ipynb\" target=\"_parent\"><img src=\"https://colab.research.google.com/assets/colab-badge.svg\" alt=\"Open In Colab\"/></a>"
      ]
    },
    {
      "cell_type": "code",
      "metadata": {
        "id": "5eF9cbxJku7Q"
      },
      "source": [
        "# 필용한 라이브러리를 넣는 과정\n",
        "import numpy as np\n",
        "import pandas as pd\n",
        "import torch\n",
        "import torch.optim as optim"
      ],
      "execution_count": 67,
      "outputs": []
    },
    {
      "cell_type": "code",
      "metadata": {
        "id": "rzXCrAt8k1lz"
      },
      "source": [
        "# 결과값을 동결하기 위해 seed를 고정해주는 과정\n",
        "device = 'cuda' if torch.cuda.is_available() else 'cpu'\n",
        "torch.manual_seed(777)\n",
        "if device == 'cuda':\n",
        "  torch.cuda.manual_seed_all(777)"
      ],
      "execution_count": 68,
      "outputs": []
    },
    {
      "cell_type": "code",
      "metadata": {
        "id": "q7HjGX4glK53"
      },
      "source": [
        "# 학습과 테스트에 이용할 데이터셋을 불러오는 과정\n",
        "data = pd.read_csv('train.csv')\n",
        "data2 = pd.read_csv('test.csv')\n",
        "submit = pd.read_csv('submit_sample.csv')"
      ],
      "execution_count": 69,
      "outputs": []
    },
    {
      "cell_type": "code",
      "metadata": {
        "colab": {
          "base_uri": "https://localhost:8080/",
          "height": 241
        },
        "id": "t8iH-LVVmDpk",
        "outputId": "b37d8449-2c71-4ffb-fa3d-4ba5b89090fd"
      },
      "source": [
        "data.head()"
      ],
      "execution_count": 70,
      "outputs": [
        {
          "output_type": "execute_result",
          "data": {
            "text/html": [
              "<div>\n",
              "<style scoped>\n",
              "    .dataframe tbody tr th:only-of-type {\n",
              "        vertical-align: middle;\n",
              "    }\n",
              "\n",
              "    .dataframe tbody tr th {\n",
              "        vertical-align: top;\n",
              "    }\n",
              "\n",
              "    .dataframe thead th {\n",
              "        text-align: right;\n",
              "    }\n",
              "</style>\n",
              "<table border=\"1\" class=\"dataframe\">\n",
              "  <thead>\n",
              "    <tr style=\"text-align: right;\">\n",
              "      <th></th>\n",
              "      <th>index</th>\n",
              "      <th>enrollee_id</th>\n",
              "      <th>city</th>\n",
              "      <th>city_development_index</th>\n",
              "      <th>gender</th>\n",
              "      <th>relevent_experience</th>\n",
              "      <th>enrolled_university</th>\n",
              "      <th>education_level</th>\n",
              "      <th>major_discipline</th>\n",
              "      <th>experience</th>\n",
              "      <th>company_size</th>\n",
              "      <th>company_type</th>\n",
              "      <th>last_new_job</th>\n",
              "      <th>training_hours</th>\n",
              "      <th>target</th>\n",
              "    </tr>\n",
              "  </thead>\n",
              "  <tbody>\n",
              "    <tr>\n",
              "      <th>0</th>\n",
              "      <td>0</td>\n",
              "      <td>8949</td>\n",
              "      <td>city_103</td>\n",
              "      <td>0.920</td>\n",
              "      <td>Male</td>\n",
              "      <td>Has relevent experience</td>\n",
              "      <td>no_enrollment</td>\n",
              "      <td>Graduate</td>\n",
              "      <td>STEM</td>\n",
              "      <td>&gt;20</td>\n",
              "      <td>NaN</td>\n",
              "      <td>NaN</td>\n",
              "      <td>1</td>\n",
              "      <td>36</td>\n",
              "      <td>1.0</td>\n",
              "    </tr>\n",
              "    <tr>\n",
              "      <th>1</th>\n",
              "      <td>1</td>\n",
              "      <td>29725</td>\n",
              "      <td>city_40</td>\n",
              "      <td>0.776</td>\n",
              "      <td>Male</td>\n",
              "      <td>No relevent experience</td>\n",
              "      <td>no_enrollment</td>\n",
              "      <td>Graduate</td>\n",
              "      <td>STEM</td>\n",
              "      <td>15</td>\n",
              "      <td>50-99</td>\n",
              "      <td>Pvt Ltd</td>\n",
              "      <td>&gt;4</td>\n",
              "      <td>47</td>\n",
              "      <td>0.0</td>\n",
              "    </tr>\n",
              "    <tr>\n",
              "      <th>2</th>\n",
              "      <td>3</td>\n",
              "      <td>33241</td>\n",
              "      <td>city_115</td>\n",
              "      <td>0.789</td>\n",
              "      <td>NaN</td>\n",
              "      <td>No relevent experience</td>\n",
              "      <td>NaN</td>\n",
              "      <td>Graduate</td>\n",
              "      <td>Business Degree</td>\n",
              "      <td>&lt;1</td>\n",
              "      <td>NaN</td>\n",
              "      <td>Pvt Ltd</td>\n",
              "      <td>never</td>\n",
              "      <td>52</td>\n",
              "      <td>1.0</td>\n",
              "    </tr>\n",
              "    <tr>\n",
              "      <th>3</th>\n",
              "      <td>4</td>\n",
              "      <td>666</td>\n",
              "      <td>city_162</td>\n",
              "      <td>0.767</td>\n",
              "      <td>Male</td>\n",
              "      <td>Has relevent experience</td>\n",
              "      <td>no_enrollment</td>\n",
              "      <td>Masters</td>\n",
              "      <td>STEM</td>\n",
              "      <td>&gt;20</td>\n",
              "      <td>50-99</td>\n",
              "      <td>Funded Startup</td>\n",
              "      <td>4</td>\n",
              "      <td>8</td>\n",
              "      <td>0.0</td>\n",
              "    </tr>\n",
              "    <tr>\n",
              "      <th>4</th>\n",
              "      <td>5</td>\n",
              "      <td>21651</td>\n",
              "      <td>city_176</td>\n",
              "      <td>0.764</td>\n",
              "      <td>NaN</td>\n",
              "      <td>Has relevent experience</td>\n",
              "      <td>Part time course</td>\n",
              "      <td>Graduate</td>\n",
              "      <td>STEM</td>\n",
              "      <td>11</td>\n",
              "      <td>NaN</td>\n",
              "      <td>NaN</td>\n",
              "      <td>1</td>\n",
              "      <td>24</td>\n",
              "      <td>1.0</td>\n",
              "    </tr>\n",
              "  </tbody>\n",
              "</table>\n",
              "</div>"
            ],
            "text/plain": [
              "   index  enrollee_id      city  ...  last_new_job training_hours target\n",
              "0      0         8949  city_103  ...             1             36    1.0\n",
              "1      1        29725   city_40  ...            >4             47    0.0\n",
              "2      3        33241  city_115  ...         never             52    1.0\n",
              "3      4          666  city_162  ...             4              8    0.0\n",
              "4      5        21651  city_176  ...             1             24    1.0\n",
              "\n",
              "[5 rows x 15 columns]"
            ]
          },
          "metadata": {},
          "execution_count": 70
        }
      ]
    },
    {
      "cell_type": "code",
      "metadata": {
        "id": "JJoAJxSnmWAI"
      },
      "source": [
        "# model을 만드는데 필요 없는 id와 index, 학습데이터 Y 값에 해당하는 target은 빼는 과정 (drop을 사용합니다.)\n",
        "data_pcs = data.drop(['index','enrollee_id','target'],axis=1)\n",
        "data2_pcs = data2.drop(['index','enrollee_id'],axis=1)"
      ],
      "execution_count": 71,
      "outputs": []
    },
    {
      "cell_type": "code",
      "metadata": {
        "colab": {
          "base_uri": "https://localhost:8080/"
        },
        "id": "UYfYz_vmmM3t",
        "outputId": "5f6750dc-5001-4ace-e587-02616c9079e4"
      },
      "source": [
        "data.info()"
      ],
      "execution_count": 72,
      "outputs": [
        {
          "output_type": "stream",
          "name": "stdout",
          "text": [
            "<class 'pandas.core.frame.DataFrame'>\n",
            "RangeIndex: 15326 entries, 0 to 15325\n",
            "Data columns (total 15 columns):\n",
            " #   Column                  Non-Null Count  Dtype  \n",
            "---  ------                  --------------  -----  \n",
            " 0   index                   15326 non-null  int64  \n",
            " 1   enrollee_id             15326 non-null  int64  \n",
            " 2   city                    15326 non-null  object \n",
            " 3   city_development_index  15326 non-null  float64\n",
            " 4   gender                  11752 non-null  object \n",
            " 5   relevent_experience     15326 non-null  object \n",
            " 6   enrolled_university     15009 non-null  object \n",
            " 7   education_level         14964 non-null  object \n",
            " 8   major_discipline        13068 non-null  object \n",
            " 9   experience              15276 non-null  object \n",
            " 10  company_size            10612 non-null  object \n",
            " 11  company_type            10445 non-null  object \n",
            " 12  last_new_job            14983 non-null  object \n",
            " 13  training_hours          15326 non-null  int64  \n",
            " 14  target                  15326 non-null  float64\n",
            "dtypes: float64(2), int64(3), object(10)\n",
            "memory usage: 1.8+ MB\n"
          ]
        }
      ]
    },
    {
      "cell_type": "code",
      "metadata": {
        "colab": {
          "base_uri": "https://localhost:8080/"
        },
        "id": "v_d3hvqBnq3v",
        "outputId": "1000c595-d0bf-42db-da69-35ea6f13179f"
      },
      "source": [
        "data.columns"
      ],
      "execution_count": 73,
      "outputs": [
        {
          "output_type": "execute_result",
          "data": {
            "text/plain": [
              "Index(['index', 'enrollee_id', 'city', 'city_development_index', 'gender',\n",
              "       'relevent_experience', 'enrolled_university', 'education_level',\n",
              "       'major_discipline', 'experience', 'company_size', 'company_type',\n",
              "       'last_new_job', 'training_hours', 'target'],\n",
              "      dtype='object')"
            ]
          },
          "metadata": {},
          "execution_count": 73
        }
      ]
    },
    {
      "cell_type": "code",
      "metadata": {
        "id": "96FQPM5gnaMg"
      },
      "source": [
        "# object인 Dtype을 str로 바꾸는 과정\n",
        "list=['city', 'gender','relevent_experience', 'enrolled_university', 'education_level','major_discipline', 'experience', 'company_size', 'company_type','last_new_job']\n",
        "\n",
        "for c in list:\n",
        "  data_pcs[c] = data_pcs[c].astype(str)\n",
        "  data2_pcs[c] = data_pcs[c].astype(str)"
      ],
      "execution_count": 74,
      "outputs": []
    },
    {
      "cell_type": "code",
      "metadata": {
        "id": "n6KnaPPFoSp8"
      },
      "source": [
        "# str의 형태로 바뀐 data 값들을 data preprocessing을 통해 DNN model에 이용할 수 있는 int 형으로 변형해 주는 과정 (scikit-learn의 label encoder를 사용합니다.)\n",
        "from sklearn import preprocessing\n",
        "le = preprocessing.LabelEncoder()\n",
        "\n",
        "for c in list:\n",
        "  for_fit = pd.concat([data_pcs[c],data2_pcs[c]],axis=0)\n",
        "  le.fit(for_fit)\n",
        "  data_pcs[c] = le.transform(data_pcs[c])\n",
        "  data2_pcs[c] = le.transform(data2_pcs[c])"
      ],
      "execution_count": 75,
      "outputs": []
    },
    {
      "cell_type": "code",
      "metadata": {
        "colab": {
          "base_uri": "https://localhost:8080/",
          "height": 204
        },
        "id": "8lEQge0LqWI7",
        "outputId": "b678b5f4-ece9-4a39-91e0-f5640a0aae13"
      },
      "source": [
        "# int형으로 변환된 데이터셋을 확인할 수 있습니다.\n",
        "data_pcs.head()"
      ],
      "execution_count": 76,
      "outputs": [
        {
          "output_type": "execute_result",
          "data": {
            "text/html": [
              "<div>\n",
              "<style scoped>\n",
              "    .dataframe tbody tr th:only-of-type {\n",
              "        vertical-align: middle;\n",
              "    }\n",
              "\n",
              "    .dataframe tbody tr th {\n",
              "        vertical-align: top;\n",
              "    }\n",
              "\n",
              "    .dataframe thead th {\n",
              "        text-align: right;\n",
              "    }\n",
              "</style>\n",
              "<table border=\"1\" class=\"dataframe\">\n",
              "  <thead>\n",
              "    <tr style=\"text-align: right;\">\n",
              "      <th></th>\n",
              "      <th>city</th>\n",
              "      <th>city_development_index</th>\n",
              "      <th>gender</th>\n",
              "      <th>relevent_experience</th>\n",
              "      <th>enrolled_university</th>\n",
              "      <th>education_level</th>\n",
              "      <th>major_discipline</th>\n",
              "      <th>experience</th>\n",
              "      <th>company_size</th>\n",
              "      <th>company_type</th>\n",
              "      <th>last_new_job</th>\n",
              "      <th>training_hours</th>\n",
              "    </tr>\n",
              "  </thead>\n",
              "  <tbody>\n",
              "    <tr>\n",
              "      <th>0</th>\n",
              "      <td>5</td>\n",
              "      <td>0.920</td>\n",
              "      <td>1</td>\n",
              "      <td>0</td>\n",
              "      <td>3</td>\n",
              "      <td>0</td>\n",
              "      <td>5</td>\n",
              "      <td>21</td>\n",
              "      <td>8</td>\n",
              "      <td>6</td>\n",
              "      <td>0</td>\n",
              "      <td>36</td>\n",
              "    </tr>\n",
              "    <tr>\n",
              "      <th>1</th>\n",
              "      <td>76</td>\n",
              "      <td>0.776</td>\n",
              "      <td>1</td>\n",
              "      <td>1</td>\n",
              "      <td>3</td>\n",
              "      <td>0</td>\n",
              "      <td>5</td>\n",
              "      <td>6</td>\n",
              "      <td>4</td>\n",
              "      <td>5</td>\n",
              "      <td>4</td>\n",
              "      <td>47</td>\n",
              "    </tr>\n",
              "    <tr>\n",
              "      <th>2</th>\n",
              "      <td>14</td>\n",
              "      <td>0.789</td>\n",
              "      <td>3</td>\n",
              "      <td>1</td>\n",
              "      <td>2</td>\n",
              "      <td>0</td>\n",
              "      <td>1</td>\n",
              "      <td>20</td>\n",
              "      <td>8</td>\n",
              "      <td>5</td>\n",
              "      <td>6</td>\n",
              "      <td>52</td>\n",
              "    </tr>\n",
              "    <tr>\n",
              "      <th>3</th>\n",
              "      <td>49</td>\n",
              "      <td>0.767</td>\n",
              "      <td>1</td>\n",
              "      <td>0</td>\n",
              "      <td>3</td>\n",
              "      <td>2</td>\n",
              "      <td>5</td>\n",
              "      <td>21</td>\n",
              "      <td>4</td>\n",
              "      <td>1</td>\n",
              "      <td>3</td>\n",
              "      <td>8</td>\n",
              "    </tr>\n",
              "    <tr>\n",
              "      <th>4</th>\n",
              "      <td>56</td>\n",
              "      <td>0.764</td>\n",
              "      <td>3</td>\n",
              "      <td>0</td>\n",
              "      <td>1</td>\n",
              "      <td>0</td>\n",
              "      <td>5</td>\n",
              "      <td>2</td>\n",
              "      <td>8</td>\n",
              "      <td>6</td>\n",
              "      <td>0</td>\n",
              "      <td>24</td>\n",
              "    </tr>\n",
              "  </tbody>\n",
              "</table>\n",
              "</div>"
            ],
            "text/plain": [
              "   city  city_development_index  ...  last_new_job  training_hours\n",
              "0     5                   0.920  ...             0              36\n",
              "1    76                   0.776  ...             4              47\n",
              "2    14                   0.789  ...             6              52\n",
              "3    49                   0.767  ...             3               8\n",
              "4    56                   0.764  ...             0              24\n",
              "\n",
              "[5 rows x 12 columns]"
            ]
          },
          "metadata": {},
          "execution_count": 76
        }
      ]
    },
    {
      "cell_type": "code",
      "metadata": {
        "id": "RstrD-OSqZV7"
      },
      "source": [
        "# 데이터셋을 Dataframe -> array -> tensor의 형태로 변환\n",
        "train_X = torch.FloatTensor(np.array(data_pcs))\n",
        "train_Y = torch.FloatTensor(np.array(data.target))\n",
        "train_Y = torch.reshape(train_Y,[15326,1])\n",
        "\n",
        "test_X = torch.FloatTensor(np.array(data2_pcs))"
      ],
      "execution_count": 77,
      "outputs": []
    },
    {
      "cell_type": "code",
      "metadata": {
        "id": "iTn3QjrmrCp6"
      },
      "source": [
        "# model의 layer를 정의하는 과정\n",
        "# layer의 크기가 클수로, 갯수가 많을수록 학습률이 좋지만 과적합의 위험이 있음을 유의!\n",
        "linear1 = torch.nn.Linear(12, 512, bias=True)\n",
        "linear2 = torch.nn.Linear(512, 512, bias=True)\n",
        "linear3 = torch.nn.Linear(512, 512, bias=True)\n",
        "linear4 = torch.nn.Linear(512, 512, bias=True)    \n",
        "linear5 = torch.nn.Linear(512, 1, bias=True)      # note) classification의 경우 class 크기 값을, binary classification 또는 회귀 문제의 경우 1을 넣는다.\n",
        "\n",
        "relu = torch.nn.ReLU()\n",
        "dropout = torch.nn.Dropout(p=0.3)                 # 과적합을 예방하기 위한 dropout layer를 정의 지금의 경우 30% dropout\n",
        "sigmoid = torch.nn.Sigmoid()                      # boolean 문제 이므로 sigmoid layer를 마지막에 추가하기 위한 정의"
      ],
      "execution_count": 78,
      "outputs": []
    },
    {
      "cell_type": "code",
      "metadata": {
        "colab": {
          "base_uri": "https://localhost:8080/"
        },
        "id": "U2xBnF9yrES8",
        "outputId": "e5c437f6-76a1-4166-fe1c-abfbb21e6943"
      },
      "source": [
        "# layer의 가중치 초기화 과정(xavier를 사용했습니다. orthogonal등의 다른 방법 또한 존재합니다.)\n",
        "torch.nn.init.xavier_normal_(linear1.weight)\n",
        "torch.nn.init.xavier_normal_(linear2.weight)\n",
        "torch.nn.init.xavier_normal_(linear3.weight)\n",
        "torch.nn.init.xavier_normal_(linear4.weight)\n",
        "torch.nn.init.xavier_normal_(linear5.weight)"
      ],
      "execution_count": 79,
      "outputs": [
        {
          "output_type": "execute_result",
          "data": {
            "text/plain": [
              "Parameter containing:\n",
              "tensor([[ 3.8477e-02,  1.0691e-02, -2.9417e-02,  1.7227e-02,  1.0635e-01,\n",
              "         -1.9522e-02, -2.4190e-01, -1.3847e-03, -5.0912e-02,  1.2866e-03,\n",
              "          8.8841e-02, -6.1709e-02,  9.9830e-02, -6.6989e-02, -1.6494e-01,\n",
              "         -5.2227e-02, -2.1583e-03,  2.7203e-02,  1.2188e-01, -6.3811e-02,\n",
              "          7.2929e-02, -1.1081e-01, -7.3619e-02,  5.5741e-02, -5.2091e-02,\n",
              "          3.3675e-02,  7.8344e-02,  4.2376e-02,  8.4417e-02, -5.8366e-03,\n",
              "          6.9128e-02, -4.6243e-02,  8.6872e-02, -7.5962e-02, -3.2799e-02,\n",
              "          5.1904e-02,  2.2648e-02,  7.8239e-03,  3.2014e-02,  8.8581e-03,\n",
              "         -5.2649e-02, -2.1145e-02, -1.2804e-01, -3.3371e-03, -1.2997e-01,\n",
              "          7.9732e-02,  8.0508e-02,  9.3124e-02, -1.2952e-01, -1.0846e-01,\n",
              "         -7.8169e-02, -3.8226e-03,  3.4837e-02,  1.5538e-02, -9.9161e-02,\n",
              "          1.3964e-02,  1.2077e-03,  1.3385e-02,  2.5345e-02,  7.3966e-02,\n",
              "         -2.9488e-03, -9.9205e-02,  1.0622e-02,  8.4400e-02, -6.8867e-02,\n",
              "         -4.2465e-02, -8.0325e-02, -9.1801e-02, -3.1847e-02, -7.1059e-02,\n",
              "          5.3175e-03,  2.1791e-01, -1.4839e-02,  1.1090e-01, -7.6042e-02,\n",
              "          3.0568e-02, -2.2985e-03,  8.4615e-02, -8.1228e-02, -2.9674e-02,\n",
              "         -3.4529e-02,  1.9388e-02,  1.8691e-01, -9.7228e-02,  2.5116e-02,\n",
              "         -5.2001e-02,  4.8898e-04,  1.7794e-01,  5.8804e-02, -3.7370e-02,\n",
              "         -6.1237e-02, -2.9021e-02, -2.2700e-02, -6.8090e-02, -1.4152e-01,\n",
              "         -1.2589e-01,  4.6471e-02,  2.7181e-02,  5.3819e-02,  5.2854e-02,\n",
              "          4.3050e-02,  1.3734e-01, -3.7154e-03, -1.9015e-03, -6.4934e-02,\n",
              "          7.2027e-02,  9.7932e-03,  8.0580e-02,  3.8295e-02,  3.0205e-02,\n",
              "         -5.5679e-02, -4.4699e-03,  1.9354e-02,  4.5091e-02,  1.3752e-02,\n",
              "         -4.3740e-02, -1.5916e-02,  5.0075e-02,  2.4975e-02,  1.7030e-01,\n",
              "         -5.7116e-02, -5.8987e-02, -1.1998e-02,  6.6054e-02, -6.8691e-02,\n",
              "         -8.4851e-02,  6.1041e-02, -4.0318e-03,  9.3787e-02,  4.8373e-02,\n",
              "          2.5689e-02, -9.1131e-02, -3.0136e-02,  7.1521e-03,  9.5044e-02,\n",
              "         -2.5105e-02,  1.4181e-02,  3.4267e-02, -2.7139e-02, -1.6450e-02,\n",
              "          1.0446e-02,  9.6467e-02,  4.9575e-02,  1.9375e-02,  1.4369e-02,\n",
              "          4.9048e-02, -1.0254e-02,  1.4113e-01, -9.4469e-02,  1.1589e-01,\n",
              "         -5.1197e-02, -1.0908e-01, -3.2382e-02,  1.1072e-01,  4.1512e-02,\n",
              "          3.9702e-02,  5.8035e-02,  5.8562e-02,  2.0921e-03,  2.8594e-02,\n",
              "          6.7930e-02,  1.8445e-02, -2.0593e-02, -9.5838e-02,  9.1061e-02,\n",
              "          2.6896e-02, -3.2486e-02,  2.8922e-02, -1.8428e-02,  1.1656e-01,\n",
              "          8.9291e-03, -5.8667e-02,  1.1709e-02,  9.5762e-02,  3.8057e-02,\n",
              "         -1.2096e-01, -5.1813e-02,  4.1889e-02,  4.2258e-02,  1.4796e-02,\n",
              "         -8.7785e-03, -1.7136e-01,  3.5890e-02,  6.0971e-03,  6.2627e-02,\n",
              "         -5.2575e-02, -1.0840e-02, -1.1660e-02,  5.7975e-02, -6.5448e-02,\n",
              "          2.7425e-02,  7.1931e-02, -9.7472e-03, -6.6184e-02, -6.4458e-02,\n",
              "         -1.2696e-01, -8.8514e-02, -1.1362e-01, -1.3166e-02,  1.9411e-02,\n",
              "          2.9130e-02,  8.2200e-02,  9.9166e-02, -3.8064e-03, -8.4712e-02,\n",
              "          2.5493e-02,  3.3824e-02, -3.3411e-02, -9.6411e-02,  5.6601e-05,\n",
              "         -2.0717e-02, -5.4885e-02,  2.2258e-02,  4.6542e-02,  9.9645e-02,\n",
              "         -3.3019e-02,  1.2131e-01,  2.3256e-01,  3.9757e-02,  4.8425e-02,\n",
              "          6.3758e-03,  4.8600e-02, -2.2839e-02,  1.7953e-02, -1.1500e-01,\n",
              "         -7.2238e-03, -7.7639e-03, -3.9371e-02,  1.0949e-02, -1.4926e-01,\n",
              "         -4.4132e-02,  1.0434e-01, -1.7324e-02, -6.0090e-02, -1.8524e-02,\n",
              "          3.8863e-02,  1.0835e-01, -1.1672e-02,  2.1188e-02,  6.7369e-02,\n",
              "         -5.1801e-02,  4.0482e-02, -1.1799e-02,  3.4392e-03,  1.2816e-02,\n",
              "         -4.9804e-02,  9.9320e-03, -4.2762e-02, -3.3574e-02, -2.5213e-02,\n",
              "         -1.3937e-02,  5.7689e-02,  9.5163e-03,  1.5360e-01, -2.4359e-02,\n",
              "         -5.0542e-02,  1.7137e-02,  8.5317e-02, -7.1903e-02,  3.2927e-02,\n",
              "          5.9945e-02, -3.6557e-02,  8.5680e-02,  1.2765e-01,  3.1076e-02,\n",
              "         -4.1862e-02,  3.4063e-02, -5.6431e-02, -2.1067e-03, -3.2967e-02,\n",
              "          1.2739e-01,  1.9045e-02,  1.2016e-01, -1.2464e-01, -5.2874e-02,\n",
              "          4.7557e-03,  1.1990e-01, -1.4199e-01,  6.7199e-02,  5.1979e-02,\n",
              "         -3.6150e-03, -4.3450e-02, -5.4544e-02,  2.5545e-02,  1.8013e-01,\n",
              "          1.0432e-03, -1.1384e-01, -5.6520e-02,  5.8241e-03, -1.3030e-01,\n",
              "          1.2008e-01,  9.6976e-03,  2.3123e-02,  1.2109e-01,  5.0433e-03,\n",
              "         -8.8447e-02,  5.7764e-02, -6.8223e-02, -3.7639e-03,  8.2047e-02,\n",
              "         -3.5932e-02, -5.2620e-02,  1.4827e-02,  2.3012e-02, -6.4854e-02,\n",
              "          2.9560e-02, -1.2795e-01,  9.7120e-02,  3.7836e-02, -1.4100e-06,\n",
              "          3.5075e-02, -5.0855e-02,  1.0267e-01,  3.5000e-02, -5.0023e-02,\n",
              "         -8.0958e-02, -6.4199e-02,  5.3673e-02, -2.9546e-03, -1.3176e-01,\n",
              "         -1.0231e-01,  7.3050e-02, -2.6999e-02,  1.6478e-02, -9.7845e-02,\n",
              "          8.1952e-02, -8.2120e-02, -1.1691e-01, -4.2723e-02, -5.6499e-02,\n",
              "         -2.1977e-02,  5.8144e-02,  7.0378e-02,  2.6770e-02,  3.0826e-02,\n",
              "          2.3196e-02,  2.8071e-02, -1.2877e-01, -2.3928e-02, -3.5143e-02,\n",
              "         -5.6616e-02,  7.7643e-03,  2.2423e-02,  5.9400e-02, -8.9770e-02,\n",
              "          8.2661e-02, -1.3593e-01, -4.9395e-03,  3.5159e-02,  6.5177e-02,\n",
              "         -5.1089e-03,  8.2380e-02,  1.4611e-02, -5.9199e-03, -3.0413e-02,\n",
              "          3.5793e-02, -9.5314e-03,  8.5366e-02,  4.2555e-02, -2.9489e-02,\n",
              "         -2.4017e-02,  5.2967e-02, -7.0658e-02, -1.0063e-01,  1.0728e-01,\n",
              "         -4.2872e-02, -9.3930e-02, -7.5820e-02,  4.5168e-02, -5.5251e-03,\n",
              "         -9.8244e-02,  1.6004e-01,  4.2026e-02,  4.7588e-02,  9.7051e-03,\n",
              "         -2.1582e-02, -2.6986e-02, -6.7385e-02,  4.3240e-02, -1.0394e-01,\n",
              "          1.3338e-01, -1.3769e-02, -2.6415e-02,  5.8942e-02, -1.7756e-02,\n",
              "         -5.6643e-02, -2.4370e-02, -5.0862e-02,  8.7322e-02, -2.1796e-02,\n",
              "          3.9002e-04,  1.0940e-02,  2.9805e-02, -6.8428e-02,  5.3215e-02,\n",
              "         -3.6595e-02, -5.1159e-02, -1.4033e-01, -4.9900e-02,  1.3214e-01,\n",
              "         -6.5781e-02, -9.1034e-03,  1.1270e-02,  8.2891e-02, -4.8410e-02,\n",
              "          7.0962e-03, -2.2094e-02,  3.4500e-02,  1.4873e-02, -1.6377e-02,\n",
              "          5.6331e-02,  4.9897e-02,  1.4234e-02, -7.3895e-02,  7.2122e-02,\n",
              "          6.8083e-03, -3.4683e-02, -8.3605e-02, -2.2458e-02, -9.7712e-04,\n",
              "          4.2192e-02,  8.5080e-02, -6.4512e-02,  8.5602e-02, -2.7381e-02,\n",
              "          1.6594e-01, -9.3236e-02,  7.8537e-02, -8.9980e-02, -1.2577e-01,\n",
              "         -1.1631e-01, -6.4882e-03, -1.4042e-01, -8.6454e-02, -6.4948e-02,\n",
              "          1.8710e-01, -1.0980e-02,  3.4984e-02, -6.5891e-02,  4.7535e-02,\n",
              "         -6.6758e-03, -5.4046e-02, -3.1533e-02,  6.6508e-02, -1.4639e-02,\n",
              "         -8.4177e-02,  2.9632e-03, -1.9133e-02, -3.8164e-02,  3.6567e-02,\n",
              "          6.2169e-02, -1.4703e-02,  4.4868e-02, -1.0233e-01,  3.1702e-02,\n",
              "         -3.1714e-02,  3.7428e-02,  2.4260e-02, -2.1295e-02,  7.7202e-03,\n",
              "          1.0570e-01,  7.5526e-02, -6.5412e-02, -3.7520e-02,  2.4653e-02,\n",
              "          8.9685e-02, -9.4045e-02,  5.2905e-03, -5.1594e-03, -8.8187e-02,\n",
              "          4.2305e-02,  3.9570e-02, -1.1765e-03,  4.8292e-02,  1.4483e-02,\n",
              "         -1.2051e-01, -5.8251e-02, -2.3653e-02, -5.2454e-02,  4.0917e-02,\n",
              "          1.6429e-01, -3.3247e-02,  5.5034e-02,  1.7965e-02,  3.3543e-02,\n",
              "         -2.4883e-02,  2.0949e-02, -6.2319e-02,  1.6402e-02, -8.3705e-02,\n",
              "          7.7135e-02, -1.2969e-01,  1.9279e-02, -6.7919e-02, -9.7186e-02,\n",
              "         -1.5414e-02, -3.9297e-02,  2.6836e-02,  2.3574e-02,  6.1761e-02,\n",
              "         -3.7366e-02, -3.6864e-02, -2.8632e-02,  5.8527e-02,  9.2253e-02,\n",
              "         -3.5028e-02,  1.6001e-02, -2.7766e-03,  6.5003e-02, -3.0809e-02,\n",
              "         -5.8986e-02, -2.0603e-01]], requires_grad=True)"
            ]
          },
          "metadata": {},
          "execution_count": 79
        }
      ]
    },
    {
      "cell_type": "code",
      "metadata": {
        "id": "4_TrMftet9fV"
      },
      "source": [
        "model = torch.nn.Sequential(linear1,relu,dropout,\n",
        "                          linear2,relu,dropout,\n",
        "                          linear3,relu,dropout,\n",
        "                          linear4,relu,dropout,\n",
        "                          linear5,sigmoid).to(device)"
      ],
      "execution_count": 80,
      "outputs": []
    },
    {
      "cell_type": "code",
      "metadata": {
        "id": "PW6NJtB1ulGG"
      },
      "source": [
        "# cost를 찾기위한 optimizer를 설정(성능이 가장 좋은 Adam을 사용했습니다.)\n",
        "## note) Binary classification의 경우 BCELoss()를, classification은 CrossEntropyLoss(), 회귀문제는 MSELoss()를 사용한다!\n",
        "optimizer = optim.Adam(model.parameters(), lr=0.001)   # lr은 learning rate\n",
        "loss_fn = torch.nn.BCELoss().to(device)"
      ],
      "execution_count": 81,
      "outputs": []
    },
    {
      "cell_type": "code",
      "metadata": {
        "colab": {
          "base_uri": "https://localhost:8080/"
        },
        "id": "cds3ITlUwVEK",
        "outputId": "5ee94bbb-cc50-4ed1-8cff-551bf87904ac"
      },
      "source": [
        "# GPU를 사용할 경우 모든 데이터가 같은 device에 있어야 하므로 cpu -> gpu로 옮기는 과정\n",
        "train_X=train_X.to(device)\n",
        "train_Y=train_Y.to(device)\n",
        "\n",
        "# 모델 학습을 진행하는 과정\n",
        "for epoch in range(501):\n",
        "    optimizer.zero_grad()\n",
        "    output = model(train_X)\n",
        "    loss = loss_fn(output, train_Y)\n",
        "    loss.backward()\n",
        "    optimizer.step()\n",
        "\n",
        "    # epoch \"10\" 마다 cost와 model의 정확성을 확인하기 위해 출력\n",
        "    if epoch%10==0:\n",
        "        c = output>=torch.FloatTensor([0.5]).to(device)\n",
        "        c = c.float()\n",
        "        accuracy = sum(c==train_Y) / len(train_Y)\n",
        "        print(\"Epoch: {:4d} Cost: {:.7f} Accuracy: {:.7f}\".format(epoch, loss, accuracy.item()))"
      ],
      "execution_count": 82,
      "outputs": [
        {
          "output_type": "stream",
          "name": "stdout",
          "text": [
            "Epoch:    0 Cost: 3.3835049 Accuracy: 0.3994519\n",
            "Epoch:   10 Cost: 0.6917990 Accuracy: 0.6703641\n",
            "Epoch:   20 Cost: 0.6213619 Accuracy: 0.7145374\n",
            "Epoch:   30 Cost: 0.6021419 Accuracy: 0.7498369\n",
            "Epoch:   40 Cost: 0.5818267 Accuracy: 0.7505546\n",
            "Epoch:   50 Cost: 0.5752196 Accuracy: 0.7504241\n",
            "Epoch:   60 Cost: 0.5701115 Accuracy: 0.7505546\n",
            "Epoch:   70 Cost: 0.5598721 Accuracy: 0.7505546\n",
            "Epoch:   80 Cost: 0.5540182 Accuracy: 0.7504894\n",
            "Epoch:   90 Cost: 0.5467923 Accuracy: 0.7502936\n",
            "Epoch:  100 Cost: 0.5448428 Accuracy: 0.7503589\n",
            "Epoch:  110 Cost: 0.5374724 Accuracy: 0.7506199\n",
            "Epoch:  120 Cost: 0.5351830 Accuracy: 0.7503589\n",
            "Epoch:  130 Cost: 0.5354242 Accuracy: 0.7513376\n",
            "Epoch:  140 Cost: 0.5311994 Accuracy: 0.7506199\n",
            "Epoch:  150 Cost: 0.5298507 Accuracy: 0.7499674\n",
            "Epoch:  160 Cost: 0.5266197 Accuracy: 0.7514681\n",
            "Epoch:  170 Cost: 0.5238957 Accuracy: 0.7514681\n",
            "Epoch:  180 Cost: 0.5235947 Accuracy: 0.7522511\n",
            "Epoch:  190 Cost: 0.5201975 Accuracy: 0.7540128\n",
            "Epoch:  200 Cost: 0.5194960 Accuracy: 0.7553177\n",
            "Epoch:  210 Cost: 0.5182738 Accuracy: 0.7538170\n",
            "Epoch:  220 Cost: 0.5174937 Accuracy: 0.7526426\n",
            "Epoch:  230 Cost: 0.5134580 Accuracy: 0.7570795\n",
            "Epoch:  240 Cost: 0.5124987 Accuracy: 0.7546653\n",
            "Epoch:  250 Cost: 0.5097749 Accuracy: 0.7549263\n",
            "Epoch:  260 Cost: 0.5104963 Accuracy: 0.7541433\n",
            "Epoch:  270 Cost: 0.5086970 Accuracy: 0.7584497\n",
            "Epoch:  280 Cost: 0.5053513 Accuracy: 0.7587759\n",
            "Epoch:  290 Cost: 0.4996427 Accuracy: 0.7591674\n",
            "Epoch:  300 Cost: 0.5030729 Accuracy: 0.7632781\n",
            "Epoch:  310 Cost: 0.5014368 Accuracy: 0.7595589\n",
            "Epoch:  320 Cost: 0.4984400 Accuracy: 0.7616469\n",
            "Epoch:  330 Cost: 0.4957928 Accuracy: 0.7627561\n",
            "Epoch:  340 Cost: 0.4962039 Accuracy: 0.7605377\n",
            "Epoch:  350 Cost: 0.4945219 Accuracy: 0.7607334\n",
            "Epoch:  360 Cost: 0.4937906 Accuracy: 0.7621689\n",
            "Epoch:  370 Cost: 0.4918044 Accuracy: 0.7653008\n",
            "Epoch:  380 Cost: 0.4904090 Accuracy: 0.7640611\n",
            "Epoch:  390 Cost: 0.4890574 Accuracy: 0.7616469\n",
            "Epoch:  400 Cost: 0.4888407 Accuracy: 0.7643221\n",
            "Epoch:  410 Cost: 0.4883317 Accuracy: 0.7656923\n",
            "Epoch:  420 Cost: 0.4853948 Accuracy: 0.7668667\n",
            "Epoch:  430 Cost: 0.4855647 Accuracy: 0.7641916\n",
            "Epoch:  440 Cost: 0.4864614 Accuracy: 0.7629519\n",
            "Epoch:  450 Cost: 0.4859619 Accuracy: 0.7622994\n",
            "Epoch:  460 Cost: 0.4839880 Accuracy: 0.7665405\n",
            "Epoch:  470 Cost: 0.4813435 Accuracy: 0.7666058\n",
            "Epoch:  480 Cost: 0.4825389 Accuracy: 0.7688242\n",
            "Epoch:  490 Cost: 0.4843172 Accuracy: 0.7663448\n",
            "Epoch:  500 Cost: 0.4800004 Accuracy: 0.7673235\n"
          ]
        }
      ]
    },
    {
      "cell_type": "code",
      "metadata": {
        "id": "yeWtBXj_xNJW"
      },
      "source": [
        "# 테스트 데이터를 모델에 넣어 결과값을 계산\n",
        "test_X = test_X.to(device)\n",
        "rslt = model(test_X)\n",
        "\n",
        "# Sigmoid를 통해 0~1값으로 나타난 결과값을 0과 1로 변환하는 과정\n",
        "prdt = rslt>=torch.FloatTensor([0.5]).to(device)\n",
        "prdt = prdt.float()"
      ],
      "execution_count": 83,
      "outputs": []
    },
    {
      "cell_type": "code",
      "metadata": {
        "id": "owxKUng2yfYS"
      },
      "source": [
        "# 테스트 결과값을 csv파일로 내보내는 과정\n",
        "prdt=prdt.cpu().detach().numpy()                    # gpu에 있는 tensor형태 -> cpu에 array형태로 변경\n",
        "submit['target']=prdt\n",
        "submit.to_csv('turnover_result.csv',index=False)"
      ],
      "execution_count": 84,
      "outputs": []
    },
    {
      "cell_type": "code",
      "metadata": {
        "colab": {
          "base_uri": "https://localhost:8080/",
          "height": 419
        },
        "id": "T2yC5-JmztGk",
        "outputId": "29ac4d92-dca6-4faa-c294-c397371d2168"
      },
      "source": [
        "# 결과값 확인\n",
        "rslt_csv=pd.read_csv('turnover_result.csv')\n",
        "rslt_csv"
      ],
      "execution_count": 85,
      "outputs": [
        {
          "output_type": "execute_result",
          "data": {
            "text/html": [
              "<div>\n",
              "<style scoped>\n",
              "    .dataframe tbody tr th:only-of-type {\n",
              "        vertical-align: middle;\n",
              "    }\n",
              "\n",
              "    .dataframe tbody tr th {\n",
              "        vertical-align: top;\n",
              "    }\n",
              "\n",
              "    .dataframe thead th {\n",
              "        text-align: right;\n",
              "    }\n",
              "</style>\n",
              "<table border=\"1\" class=\"dataframe\">\n",
              "  <thead>\n",
              "    <tr style=\"text-align: right;\">\n",
              "      <th></th>\n",
              "      <th>index</th>\n",
              "      <th>target</th>\n",
              "    </tr>\n",
              "  </thead>\n",
              "  <tbody>\n",
              "    <tr>\n",
              "      <th>0</th>\n",
              "      <td>2</td>\n",
              "      <td>1.0</td>\n",
              "    </tr>\n",
              "    <tr>\n",
              "      <th>1</th>\n",
              "      <td>9</td>\n",
              "      <td>0.0</td>\n",
              "    </tr>\n",
              "    <tr>\n",
              "      <th>2</th>\n",
              "      <td>10</td>\n",
              "      <td>1.0</td>\n",
              "    </tr>\n",
              "    <tr>\n",
              "      <th>3</th>\n",
              "      <td>11</td>\n",
              "      <td>0.0</td>\n",
              "    </tr>\n",
              "    <tr>\n",
              "      <th>4</th>\n",
              "      <td>15</td>\n",
              "      <td>1.0</td>\n",
              "    </tr>\n",
              "    <tr>\n",
              "      <th>...</th>\n",
              "      <td>...</td>\n",
              "      <td>...</td>\n",
              "    </tr>\n",
              "    <tr>\n",
              "      <th>3827</th>\n",
              "      <td>19129</td>\n",
              "      <td>0.0</td>\n",
              "    </tr>\n",
              "    <tr>\n",
              "      <th>3828</th>\n",
              "      <td>19132</td>\n",
              "      <td>0.0</td>\n",
              "    </tr>\n",
              "    <tr>\n",
              "      <th>3829</th>\n",
              "      <td>19135</td>\n",
              "      <td>0.0</td>\n",
              "    </tr>\n",
              "    <tr>\n",
              "      <th>3830</th>\n",
              "      <td>19149</td>\n",
              "      <td>0.0</td>\n",
              "    </tr>\n",
              "    <tr>\n",
              "      <th>3831</th>\n",
              "      <td>19155</td>\n",
              "      <td>0.0</td>\n",
              "    </tr>\n",
              "  </tbody>\n",
              "</table>\n",
              "<p>3832 rows × 2 columns</p>\n",
              "</div>"
            ],
            "text/plain": [
              "      index  target\n",
              "0         2     1.0\n",
              "1         9     0.0\n",
              "2        10     1.0\n",
              "3        11     0.0\n",
              "4        15     1.0\n",
              "...     ...     ...\n",
              "3827  19129     0.0\n",
              "3828  19132     0.0\n",
              "3829  19135     0.0\n",
              "3830  19149     0.0\n",
              "3831  19155     0.0\n",
              "\n",
              "[3832 rows x 2 columns]"
            ]
          },
          "metadata": {},
          "execution_count": 85
        }
      ]
    }
  ]
}